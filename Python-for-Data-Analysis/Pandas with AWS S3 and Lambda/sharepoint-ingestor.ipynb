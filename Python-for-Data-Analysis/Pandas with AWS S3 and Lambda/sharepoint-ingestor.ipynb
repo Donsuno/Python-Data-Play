{
 "cells": [
  {
   "cell_type": "code",
   "execution_count": 5,
   "metadata": {},
   "outputs": [],
   "source": [
    "settings = {\n",
    "    'URL': 'https://tmtgroup.sharepoint.com/sites/ABMDataPlatform',\n",
    "    'USERNAME': 'yusuf.badurohman@mst.co.id',\n",
    "    'PASSWORD': 'MSTP@ssw0rd',\n",
    "    'LIST': 'TR_TRIP',\n",
    "    'S3_BUCKET': 'abm-data-platform-s3-raw'\n",
    "}"
   ]
  },
  {
   "cell_type": "code",
   "execution_count": 6,
   "metadata": {},
   "outputs": [],
   "source": [
    "import json\n",
    "from office365.runtime.auth.authentication_context import AuthenticationContext\n",
    "from office365.sharepoint.client_context import ClientContext\n",
    "from office365.runtime.utilities.request_options import RequestOptions\n",
    "from io import StringIO\n",
    "from datetime import datetime\n",
    "import pandas as pd\n",
    "import boto3\n",
    "\n",
    "ctxAuth = AuthenticationContext(url=settings['URL'])\n",
    "if ctxAuth.acquire_token_for_user(username=settings['USERNAME'], password=settings['PASSWORD']):\n",
    "    ctx = ClientContext(settings['URL'], ctxAuth)"
   ]
  },
  {
   "cell_type": "code",
   "execution_count": 19,
   "metadata": {},
   "outputs": [
    {
     "name": "stdout",
     "output_type": "stream",
     "text": [
      "{'odata.metadata': 'https://tmtgroup.sharepoint.com/sites/ABMDataPlatform/_api/$metadata#SP.ApiData.Webs/@Element', 'odata.type': 'SP.Web', 'odata.id': 'https://tmtgroup.sharepoint.com/sites/ABMDataPlatform/_api/Web', 'odata.editLink': 'Web', 'AllowRssFeeds': True, 'AlternateCssUrl': '', 'AppInstanceId': '00000000-0000-0000-0000-000000000000', 'ClassicWelcomePage': None, 'Configuration': 0, 'Created': '2019-08-16T04:07:26.817', 'CurrentChangeToken': {'StringValue': '1;2;47eb1508-c071-4d74-8c0b-a8d81bffec7e;637024015838700000;236845792'}, 'CustomMasterUrl': '/sites/ABMDataPlatform/_catalogs/masterpage/seattle.master', 'Description': '', 'DesignPackageId': '00000000-0000-0000-0000-000000000000', 'DocumentLibraryCalloutOfficeWebAppPreviewersDisabled': False, 'EnableMinimalDownload': False, 'FooterEmphasis': 0, 'FooterEnabled': False, 'FooterLayout': 0, 'HeaderEmphasis': 0, 'HeaderLayout': 0, 'HorizontalQuickLaunch': False, 'Id': '47eb1508-c071-4d74-8c0b-a8d81bffec7e', 'IsHomepageModernized': False, 'IsMultilingual': True, 'Language': 1033, 'LastItemModifiedDate': '2019-08-26T07:07:50Z', 'LastItemUserModifiedDate': '2019-08-23T08:43:14Z', 'MasterUrl': '/sites/ABMDataPlatform/_catalogs/masterpage/seattle.master', 'MegaMenuEnabled': False, 'NoCrawl': False, 'ObjectCacheEnabled': False, 'OverwriteTranslationsOnChange': False, 'ResourcePath': {'DecodedUrl': 'https://tmtgroup.sharepoint.com/sites/ABMDataPlatform'}, 'QuickLaunchEnabled': True, 'RecycleBinEnabled': True, 'SearchScope': 0, 'ServerRelativeUrl': '/sites/ABMDataPlatform', 'SiteLogoUrl': \"/sites/ABMDataPlatform/_api/GroupService/GetGroupImage?id='31cfa5a4-c7f3-4422-b183-a9ea36c50199'&hash=637023988203013607\", 'SyndicationEnabled': True, 'TenantAdminMembersCanShare': 0, 'Title': 'ABM Data Platform', 'TreeViewEnabled': False, 'UIVersion': 15, 'UIVersionConfigurationEnabled': False, 'Url': 'https://tmtgroup.sharepoint.com/sites/ABMDataPlatform', 'WebTemplate': 'GROUP', 'WelcomePage': 'SitePages/Home.aspx'}\n"
     ]
    }
   ],
   "source": [
    "options = RequestOptions(\"{0}/_api/web/\".format(settings['URL']))\n",
    "options.set_header('Accept', 'application/json')\n",
    "options.set_header('Content-Type', 'application/json')\n",
    "data = ctx.execute_request_direct(options)\n",
    "s = json.loads(data.content)\n",
    "print(s)"
   ]
  },
  {
   "cell_type": "code",
   "execution_count": 44,
   "metadata": {
    "collapsed": true,
    "jupyter": {
     "outputs_hidden": true
    }
   },
   "outputs": [
    {
     "name": "stdout",
     "output_type": "stream",
     "text": [
      "TOTAL FIELDS:  77\n",
      "1. ID: Title, TITLE: ID_MS_FLEET_TR\n",
      "2. ID: ID_MS_BARGE, TITLE: ID_MS_BARGE\n",
      "3. ID: FLEET_SPOT_NAME, TITLE: FLEET_SPOT_NAME\n",
      "4. ID: SPOT_TUG, TITLE: SPOT_TUG\n",
      "5. ID: SPOT_BARGE, TITLE: SPOT_BARGE\n",
      "6. ID: ID_MS_CUST_TR, TITLE: ID_MS_CUST_TR\n",
      "7. ID: ID_MS_SERVICE_TR, TITLE: ID_MS_SERVICE_TR\n",
      "8. ID: CARGO_NUM, TITLE: CARGO_NUM\n",
      "9. ID: TRV_NUM, TITLE: TRV_NUM\n",
      "10. ID: MV_NAME_LOOK, TITLE: MV_NAME_LOOK\n",
      "11. ID: DATA_OWNER, TITLE: DATA_OWNER\n",
      "12. ID: DATA_DATE, TITLE: DATA_DATE\n",
      "13. ID: POL_TXT, TITLE: POL_TXT\n",
      "14. ID: POD_TXT, TITLE: POD_TXT\n",
      "15. ID: VESS_POL_ARR, TITLE: VESS_POL_ARR\n",
      "16. ID: VESS_POL_ASIDE, TITLE: VESS_POL_ASIDE\n",
      "17. ID: VESS_POL_COMM_LOAD, TITLE: VESS_POL_COMM_LOAD\n",
      "18. ID: VESS_POL_COMP_LOAD, TITLE: VESS_POL_COMP_LOAD\n",
      "19. ID: VESS_POL_COFF, TITLE: VESS_POL_COFF\n",
      "20. ID: DOC_POL_OVERHD, TITLE: DOC_POL_OVERHD\n",
      "21. ID: DOC_POL_ONB, TITLE: DOC_POL_ONB\n",
      "22. ID: VESS_POL_DEP, TITLE: VESS_POL_DEP\n",
      "23. ID: VESS_POD_ARR, TITLE: VESS_POD_ARR\n",
      "24. ID: VESS_POD_ASIDE, TITLE: VESS_POD_ASIDE\n",
      "25. ID: VESS_POD_COMM_LOAD, TITLE: VESS_POD_COMM_LOAD\n",
      "26. ID: VESS_POD_COMP_LOAD, TITLE: VESS_POD_COMP_LOAD\n",
      "27. ID: VESS_POD_COFF, TITLE: VESS_POD_COFF\n",
      "28. ID: VESS_POD_DEP, TITLE: VESS_POD_DEP\n",
      "29. ID: VESS_POL_ARR_2, TITLE: VESS_POL_ARR_2\n",
      "30. ID: ASSIST_POL_IN, TITLE: ASSIST_POL_IN\n",
      "31. ID: ASSIST_POL_OUT, TITLE: ASSIST_POL_OUT\n",
      "32. ID: ASSIST_POD_IN, TITLE: ASSIST_POD_IN\n",
      "33. ID: ASSIST_POD_OUT, TITLE: ASSIST_POD_OUT\n",
      "34. ID: BUNKER_ROB_2, TITLE: BUNKER_ROB_2\n",
      "35. ID: BUNKER_ROB_1, TITLE: BUNKER_ROB_1\n",
      "36. ID: COST_AGENCY_NUM, TITLE: COST_AGENCY_NUM\n",
      "37. ID: COST_DUES_NUM, TITLE: COST_DUES_NUM\n",
      "38. ID: REMARKS_TXT, TITLE: REMARKS_TXT\n",
      "39. ID: BONUS_TRNSHP_NUM, TITLE: BONUS_TRNSHP_NUM\n",
      "40. ID: ID_MS_FLEET_TR_x003a_ID_MS_FLEET, TITLE: ID_MS_FLEET_TR:ID_MS_FLEET\n",
      "41. ID: ID_MS_CUST_TR_x003a_ID_MS_CUST, TITLE: ID_MS_CUST_TR:ID_MS_CUST\n",
      "42. ID: ID_MS_SERVICE_TR_x003a_ID_MS_SER, TITLE: ID_MS_SERVICE_TR:ID_MS_SERVICE\n",
      "43. ID: STAT_TXT, TITLE: STAT_TXT\n",
      "44. ID: TOTAL_BUNKER_CONS, TITLE: TOTAL_BUNKER_CONS\n",
      "45. ID: SAVING_BUNKER, TITLE: SAVING_BUNKER\n",
      "46. ID: VOYAGE_CODE, TITLE: VOYAGE_CODE\n",
      "47. ID: ID_MS_BARGE_x003a_ID_MS_BARGE, TITLE: ID_MS_BARGE:ID_MS_BARGE\n",
      "48. ID: CHECK_DATEFILL, TITLE: CHECK_DATEFILL\n",
      "49. ID: MONTH_NAME, TITLE: MONTH_NAME\n",
      "50. ID: YEAR_NAME, TITLE: YEAR_NAME\n",
      "51. ID: FLEET_ACTIVITY_STATUS, TITLE: FLEET_ACTIVITY_STATUS\n",
      "52. ID: FLEET_LOCATION, TITLE: FLEET_LOCATION\n",
      "53. ID: FLEET_ACTIVITY_DATE, TITLE: FLEET_ACTIVITY_DATE\n",
      "54. ID: STATUS_RC, TITLE: STATUS_RC\n",
      "55. ID: RC_CARGO_VOLUME, TITLE: RC_CARGO_VOLUME\n",
      "56. ID: MV_COMPLETION, TITLE: MV_COMPLETION\n",
      "57. ID: MV_NAME_LOOK_x003a_ID, TITLE: MV_NAME_LOOK:ID\n",
      "58. ID: DATA_LOCATION, TITLE: DATA_LOCATION\n",
      "59. ID: FLEET_ASSIST_BY, TITLE: FLEET_ASSIST_BY\n",
      "60. ID: MV_NAME_LOOK_x003a_ETA, TITLE: MV_NAME_LOOK:ETA\n",
      "61. ID: MV_NAME_LOOK_x003a_BA_NUMBER, TITLE: MV_NAME_LOOK:BA_NUMBER\n",
      "62. ID: MV_NAME_LOOK_x003a_MV_VOLUME, TITLE: MV_NAME_LOOK:MV_VOLUME\n",
      "63. ID: MV_NAME_LOOK_x003a_ETA_MONTH, TITLE: MV_NAME_LOOK:ETA_MONTH\n",
      "64. ID: MV_NAME_LOOK_x003a_ETA_YEAR, TITLE: MV_NAME_LOOK:ETA_YEAR\n",
      "65. ID: MV_NAME_LOOK_x003a_MV_COMPLETION, TITLE: MV_NAME_LOOK:MV_COMPLETION_TEXT\n",
      "66. ID: MV_NAME_LOOK_x003a_MV_COMPLETION0, TITLE: MV_NAME_LOOK:MV_COMPLETION_DATE\n",
      "67. ID: MV_NAME_LOOK_x003a_MV_STOWAGE_PL, TITLE: MV_NAME_LOOK:MV_STOWAGE_PLAN\n",
      "68. ID: LOADING_RATE, TITLE: LOADING_RATE\n",
      "69. ID: DATA_DATE_VS_CREATED, TITLE: DATA_DATE_VS_CREATED\n",
      "70. ID: Created1, TITLE: Created1\n",
      "71. ID: REAL_CARGO_VOL, TITLE: REAL_CARGO_VOL\n",
      "72. ID: COMPLETED_MONTH_NAME, TITLE: COMPLETED_MONTH_NAME\n",
      "73. ID: COMPLETED_YEAR_NAME, TITLE: COMPLETED_YEAR_NAME\n",
      "74. ID: Modified1, TITLE: Modified1\n",
      "75. ID: ModifiedBy, TITLE: ModifiedBy\n",
      "76. ID: FUEL_x0020_BUNKERING, TITLE: FUEL BUNKERING\n",
      "77. ID: Attachments, TITLE: Attachments\n"
     ]
    }
   ],
   "source": [
    "# Get fields from List dynamically\n",
    "\n",
    "fieldId = []\n",
    "fieldTitle = []\n",
    "options = RequestOptions(\"{0}/_api/lists/getbytitle('TR_TRIP')/fields?$filter=Hidden eq false and ReadOnlyField eq false and Group eq 'Custom Columns'\".format(settings['URL']))\n",
    "options.set_header('Accept', 'application/json')\n",
    "options.set_header('Content-Type', 'application/json')\n",
    "data = ctx.execute_request_direct(options)\n",
    "fields = json.loads(data.content)\n",
    "print('TOTAL FIELDS: ', len(fields['value']))\n",
    "for idx, field in enumerate(fields['value']):\n",
    "    fieldId.append(field['EntityPropertyName'])\n",
    "    fieldTitle.append(field['Title'])\n",
    "    print(\"{2}. ID: {0}, TITLE: {1}\".format(field['EntityPropertyName'], field['Title'], idx + 1))"
   ]
  },
  {
   "cell_type": "code",
   "execution_count": 45,
   "metadata": {
    "collapsed": true,
    "jupyter": {
     "outputs_hidden": true
    }
   },
   "outputs": [
    {
     "name": "stdout",
     "output_type": "stream",
     "text": [
      "['Title', 'ID_MS_BARGE', 'FLEET_SPOT_NAME', 'SPOT_TUG', 'SPOT_BARGE', 'ID_MS_CUST_TR', 'ID_MS_SERVICE_TR', 'CARGO_NUM', 'TRV_NUM', 'MV_NAME_LOOK', 'DATA_OWNER', 'DATA_DATE', 'POL_TXT', 'POD_TXT', 'VESS_POL_ARR', 'VESS_POL_ASIDE', 'VESS_POL_COMM_LOAD', 'VESS_POL_COMP_LOAD', 'VESS_POL_COFF', 'DOC_POL_OVERHD', 'DOC_POL_ONB', 'VESS_POL_DEP', 'VESS_POD_ARR', 'VESS_POD_ASIDE', 'VESS_POD_COMM_LOAD', 'VESS_POD_COMP_LOAD', 'VESS_POD_COFF', 'VESS_POD_DEP', 'VESS_POL_ARR_2', 'ASSIST_POL_IN', 'ASSIST_POL_OUT', 'ASSIST_POD_IN', 'ASSIST_POD_OUT', 'BUNKER_ROB_2', 'BUNKER_ROB_1', 'COST_AGENCY_NUM', 'COST_DUES_NUM', 'REMARKS_TXT', 'BONUS_TRNSHP_NUM', 'ID_MS_FLEET_TR_x003a_ID_MS_FLEET', 'ID_MS_CUST_TR_x003a_ID_MS_CUST', 'ID_MS_SERVICE_TR_x003a_ID_MS_SER', 'STAT_TXT', 'TOTAL_BUNKER_CONS', 'SAVING_BUNKER', 'VOYAGE_CODE', 'ID_MS_BARGE_x003a_ID_MS_BARGE', 'CHECK_DATEFILL', 'MONTH_NAME', 'YEAR_NAME', 'FLEET_ACTIVITY_STATUS', 'FLEET_LOCATION', 'FLEET_ACTIVITY_DATE', 'STATUS_RC', 'RC_CARGO_VOLUME', 'MV_COMPLETION', 'MV_NAME_LOOK_x003a_ID', 'DATA_LOCATION', 'FLEET_ASSIST_BY', 'MV_NAME_LOOK_x003a_ETA', 'MV_NAME_LOOK_x003a_BA_NUMBER', 'MV_NAME_LOOK_x003a_MV_VOLUME', 'MV_NAME_LOOK_x003a_ETA_MONTH', 'MV_NAME_LOOK_x003a_ETA_YEAR', 'MV_NAME_LOOK_x003a_MV_COMPLETION', 'MV_NAME_LOOK_x003a_MV_COMPLETION0', 'MV_NAME_LOOK_x003a_MV_STOWAGE_PL', 'LOADING_RATE', 'DATA_DATE_VS_CREATED', 'Created1', 'REAL_CARGO_VOL', 'COMPLETED_MONTH_NAME', 'COMPLETED_YEAR_NAME', 'Modified1', 'ModifiedBy', 'FUEL_x0020_BUNKERING', 'Attachments']\n"
     ]
    }
   ],
   "source": [
    "print(fieldId)"
   ]
  },
  {
   "cell_type": "code",
   "execution_count": 65,
   "metadata": {},
   "outputs": [
    {
     "name": "stdout",
     "output_type": "stream",
     "text": [
      "['ID_MS_FLEET_TR', 'ID_MS_BARGE', 'FLEET_SPOT_NAME', 'SPOT_TUG', 'SPOT_BARGE', 'ID_MS_CUST_TR', 'ID_MS_SERVICE_TR', 'CARGO_NUM', 'TRV_NUM', 'MV_NAME_LOOK', 'DATA_OWNER', 'DATA_DATE', 'POL_TXT', 'POD_TXT', 'VESS_POL_ARR', 'VESS_POL_ASIDE', 'VESS_POL_COMM_LOAD', 'VESS_POL_COMP_LOAD', 'VESS_POL_COFF', 'DOC_POL_OVERHD', 'DOC_POL_ONB', 'VESS_POL_DEP', 'VESS_POD_ARR', 'VESS_POD_ASIDE', 'VESS_POD_COMM_LOAD', 'VESS_POD_COMP_LOAD', 'VESS_POD_COFF', 'VESS_POD_DEP', 'VESS_POL_ARR_2', 'ASSIST_POL_IN', 'ASSIST_POL_OUT', 'ASSIST_POD_IN', 'ASSIST_POD_OUT', 'BUNKER_ROB_2', 'BUNKER_ROB_1', 'COST_AGENCY_NUM', 'COST_DUES_NUM', 'REMARKS_TXT', 'BONUS_TRNSHP_NUM', 'ID_MS_FLEET_TR:ID_MS_FLEET', 'ID_MS_CUST_TR:ID_MS_CUST', 'ID_MS_SERVICE_TR:ID_MS_SERVICE', 'STAT_TXT', 'TOTAL_BUNKER_CONS', 'SAVING_BUNKER', 'VOYAGE_CODE', 'ID_MS_BARGE:ID_MS_BARGE', 'CHECK_DATEFILL', 'MONTH_NAME', 'YEAR_NAME', 'FLEET_ACTIVITY_STATUS', 'FLEET_LOCATION', 'FLEET_ACTIVITY_DATE', 'STATUS_RC', 'RC_CARGO_VOLUME', 'MV_COMPLETION', 'MV_NAME_LOOK:ID', 'DATA_LOCATION', 'FLEET_ASSIST_BY', 'MV_NAME_LOOK:ETA', 'MV_NAME_LOOK:BA_NUMBER', 'MV_NAME_LOOK:MV_VOLUME', 'MV_NAME_LOOK:ETA_MONTH', 'MV_NAME_LOOK:ETA_YEAR', 'MV_NAME_LOOK:MV_COMPLETION_TEXT', 'MV_NAME_LOOK:MV_COMPLETION_DATE', 'MV_NAME_LOOK:MV_STOWAGE_PLAN', 'LOADING_RATE', 'DATA_DATE_VS_CREATED', 'Created1', 'REAL_CARGO_VOL', 'COMPLETED_MONTH_NAME', 'COMPLETED_YEAR_NAME', 'Modified1', 'ModifiedBy', 'FUEL BUNKERING', 'Content Type', 'Attachments']\n"
     ]
    }
   ],
   "source": [
    "print(fieldTitle)"
   ]
  },
  {
   "cell_type": "code",
   "execution_count": 53,
   "metadata": {},
   "outputs": [
    {
     "name": "stdout",
     "output_type": "stream",
     "text": [
      "[['KAILI II', 'MOANA II', None, None, None, 'TIA', 'TRANSHIPMENT', 1957.541, 7.0, 'MV. ADRIATICA GRAECA', 'Trophy Geo Disansyah', '2019-01-07T23:00:00Z', 'Bunati Anchorage', 'Bunati Anchorage', None, None, None, None, None, None, None, None, '2018-12-31T19:00:00Z', '2018-12-31T20:40:00Z', '2018-12-31T21:40:00Z', '2019-01-01T01:25:00Z', '2019-01-01T01:35:00Z', '2019-01-01T01:50:00Z', '2019-01-01T23:00:00Z', None, None, 'KAILI I', 'TRISTAN SATU', 19458.0, 21024.0, None, None, 'Rc from mv aifanourios', None, '2.00000000000000', '1.00000000000000', '1.00000000000000', None, 1566.0, 1134.0, None, '2.00000000000000', 1.0, 'JAN', '2019', 'Full Away to Bunati', 'N/A', '22-01-2019 00:15', True, 1957.541, True, '209', 'SITE BUNATI', None, '2018-12-21 15:00:00', None, '69728.2840000000', None, None, None, None, '72800.0000000000', None, 1.0, '2019-01-22T23:15:39Z', 1957.541, 'JAN', '2019', '2019-01-22T23:15:39Z', 'Arya Wirawan', None, False], ['TRISTAN SATU', 'AQUILA SATU', None, None, None, 'TIA', 'TRANSHIPMENT', 7512.337, 6.0, 'MV. ADRIATICA GRAECA', 'Kurnia Fidiantoro', '2018-12-29T08:00:00Z', 'Jetty TIA East', 'Bunati Anchorage', '2018-12-29T16:40:00Z', '2018-12-30T08:25:00Z', '2018-12-30T13:10:00Z', '2018-12-30T23:55:00Z', '2018-12-31T00:05:00Z', '2018-12-31T02:45:00Z', '2018-12-31T04:20:00Z', '2018-12-31T16:00:00Z', '2019-01-01T02:00:00Z', '2019-01-01T04:00:00Z', '2019-01-01T04:00:00Z', '2019-01-01T14:25:00Z', '2019-01-01T14:35:00Z', None, None, 'KAILI III', 'KAILI V', 'KAILI II', 'KAILI II', None, 29868.0, None, None, None, None, '8.00000000000000', '1.00000000000000', '1.00000000000000', None, 29868.0, -27168.0, None, '9.00000000000000', 1.0, 'DEC', '2018', 'Completed Discharge', 'Trip To Jetty', '01-01-2019 06:35', True, None, True, '209', 'SITE BUNATI', None, '2018-12-21 15:00:00', None, '69728.2840000000', None, None, None, None, '72800.0000000000', 751.2337, 0.0, '2019-01-22T23:15:40Z', 7512.337, 'DEC', '2018', '2019-05-16T22:40:13Z', 'M Sekargalih Renggowati R', None, False], ['KAILI III', 'MOANA III', None, None, None, 'TIA', 'TRANSHIPMENT', 7522.28, 6.0, 'MV. ADRIATICA GRAECA', 'Trophy Geo Disansyah', '2018-12-29T08:00:00Z', 'Jetty TIA West', 'Bunati Anchorage', '2018-12-30T03:45:00Z', '2018-12-31T01:25:00Z', '2018-12-31T01:40:00Z', '2018-12-31T08:30:00Z', '2018-12-31T08:40:00Z', '2018-12-31T17:00:00Z', '2018-12-31T19:00:00Z', '2018-12-31T21:10:00Z', '2019-01-01T07:00:00Z', '2019-01-01T15:30:00Z', '2019-01-01T15:30:00Z', '2019-01-02T02:45:00Z', '2019-01-02T03:00:00Z', None, None, 'KAILI V', 'KAILI VII', 'KAILI II', 'KAILI VII', None, 19905.0, None, None, None, None, '3.00000000000000', '1.00000000000000', '1.00000000000000', None, 19905.0, -17205.0, None, '3.00000000000000', 1.0, 'DEC', '2018', 'Completed Discharge', 'Trip To Jetty', '01-01-2019 19:00', True, None, True, '209', 'SITE BUNATI', None, '2018-12-21 15:00:00', None, '69728.2840000000', None, None, None, None, '72800.0000000000', 1253.71333333333, 0.0, '2019-01-22T23:15:42Z', 7522.28, 'DEC', '2018', '2019-05-16T20:52:49Z', 'M Sekargalih Renggowati R', None, False], ['KAILI V', 'MOANA V', None, None, None, 'TIA', 'TRANSHIPMENT', 7512.897, 7.0, 'MV. ADRIATICA GRAECA', 'Trophy Geo Disansyah', '2018-12-30T08:00:00Z', 'Jetty TIA East', 'Bunati Anchorage', '2018-12-30T13:30:00Z', '2018-12-31T09:05:00Z', '2018-12-31T14:25:00Z', '2018-12-31T22:50:00Z', '2018-12-31T23:00:00Z', '2019-01-01T01:00:00Z', '2019-01-01T03:45:00Z', '2019-01-01T16:45:00Z', '2019-01-02T00:10:00Z', '2019-01-02T07:30:00Z', '2019-01-02T07:30:00Z', '2019-01-02T17:45:00Z', '2019-01-02T18:00:00Z', None, None, 'KAILI VII', 'KAILI VII', 'KAILI VII', 'KAILI VI', None, 23961.0, None, None, None, None, '4.00000000000000', '1.00000000000000', '1.00000000000000', None, 23961.0, -21261.0, None, '5.00000000000000', 1.0, 'DEC', '2018', 'Completed Discharge', 'Trip To Jetty', '02-01-2019 10:00', True, None, True, '209', 'SITE BUNATI', None, '2018-12-21 15:00:00', None, '69728.2840000000', None, None, None, None, '72800.0000000000', 939.112125, 0.0, '2019-01-22T23:15:43Z', 7512.897, 'DEC', '2018', '2019-05-16T21:02:39Z', 'M Sekargalih Renggowati R', None, False], ['KAILI VII', 'MOANA VII', None, None, None, 'TIA', 'TRANSHIPMENT', 7557.452, 6.0, 'MV. ADRIATICA GRAECA', 'Trophy Geo Disansyah', '2018-12-30T08:00:00Z', 'Jetty TIA West', 'Bunati Anchorage', '2018-12-31T00:50:00Z', '2018-12-31T15:25:00Z', '2018-12-31T23:00:00Z', '2019-01-01T05:50:00Z', '2019-01-01T06:00:00Z', '2019-01-01T07:30:00Z', '2019-01-01T09:30:00Z', '2019-01-01T17:00:00Z', '2019-01-01T23:45:00Z', '2019-01-02T18:35:00Z', '2019-01-02T18:35:00Z', '2019-01-03T07:50:00Z', '2019-01-03T08:00:00Z', None, None, 'KAILI V', 'KAILI VI', 'KAILI VI', 'KAILI I', None, 21485.0, None, None, None, None, '6.00000000000000', '1.00000000000000', '1.00000000000000', None, 21485.0, -18785.0, None, '7.00000000000000', 1.0, 'DEC', '2018', 'Completed Discharge', 'Trip To Jetty', '03-01-2019 00:00', True, None, True, '209', 'SITE BUNATI', None, '2018-12-21 15:00:00', None, '69728.2840000000', None, None, None, None, '72800.0000000000', 1259.57533333333, 0.0, '2019-01-22T23:15:44Z', 7557.452, 'DEC', '2018', '2019-05-17T17:30:56Z', 'M Sekargalih Renggowati R', None, False]]\n"
     ]
    }
   ],
   "source": [
    "# Get next URL\n",
    "\n",
    "options = RequestOptions(\"{0}/_api/lists/getbytitle('TR_TRIP')/items?$top=5\".format(settings['URL']))\n",
    "options.set_header('Accept', 'application/json')\n",
    "options.set_header('Content-Type', 'application/json')\n",
    "data = ctx.execute_request_direct(options)\n",
    "items = json.loads(data.content)\n",
    "list_items = []\n",
    "for item in items['value']:\n",
    "    list_item = []\n",
    "    for field in fieldId:\n",
    "        list_item.append(item[field])\n",
    "    list_items.append(list_item)\n",
    "print(list_items)\n"
   ]
  },
  {
   "cell_type": "code",
   "execution_count": 13,
   "metadata": {},
   "outputs": [
    {
     "name": "stdout",
     "output_type": "stream",
     "text": [
      "TOTAL DATA:  100\n",
      "   ID_MS_FLEET_TR  ID_MS_BARGE                    FLEET_SPOT_NAME  \\\n",
      "0        KAILI II     MOANA II                               None   \n",
      "1    TRISTAN SATU  AQUILA SATU                               None   \n",
      "2       KAILI III    MOANA III                               None   \n",
      "3         KAILI V      MOANA V                               None   \n",
      "4       KAILI VII    MOANA VII                               None   \n",
      "..            ...          ...                                ...   \n",
      "95       KAILI II     MOANA II                               None   \n",
      "96           None         None  TB. MICHELLE VII / BG. BENAMI VII   \n",
      "97        KAILI V      MOANA V                               None   \n",
      "98   TRISTAN SATU  AQUILA SATU                               None   \n",
      "99        KAILI I      MOANA I                               None   \n",
      "\n",
      "            SPOT_TUG      SPOT_BARGE               ID_MS_CUST_TR  \\\n",
      "0               None            None                         TIA   \n",
      "1               None            None                         TIA   \n",
      "2               None            None                         TIA   \n",
      "3               None            None                         TIA   \n",
      "4               None            None                         TIA   \n",
      "..               ...             ...                         ...   \n",
      "95              None            None  SUMBER REZEKI SAMUDRA JAYA   \n",
      "96  TB. MICHELLE VII  BG. BENAMI VII                         TIA   \n",
      "97              None            None                         TIA   \n",
      "98              None            None                         TIA   \n",
      "99              None            None                         TIA   \n",
      "\n",
      "   ID_MS_SERVICE_TR  CARGO_NUM  TRV_NUM          MV_NAME_LOOK  ...  \\\n",
      "0      TRANSHIPMENT   1957.541        7  MV. ADRIATICA GRAECA  ...   \n",
      "1      TRANSHIPMENT   7512.337        6  MV. ADRIATICA GRAECA  ...   \n",
      "2      TRANSHIPMENT   7522.280        6  MV. ADRIATICA GRAECA  ...   \n",
      "3      TRANSHIPMENT   7512.897        7  MV. ADRIATICA GRAECA  ...   \n",
      "4      TRANSHIPMENT   7557.452        6  MV. ADRIATICA GRAECA  ...   \n",
      "..              ...        ...      ...                   ...  ...   \n",
      "95      INTERISLAND   7509.110        1                  None  ...   \n",
      "96     TRANSHIPMENT   7505.553        1      MV. HONG MERIT 2  ...   \n",
      "97     TRANSHIPMENT   7522.350        1      MV. HONG MERIT 2  ...   \n",
      "98     TRANSHIPMENT   7533.509        1              MV. BENE  ...   \n",
      "99     TRANSHIPMENT   7522.408        1      MV. HONG MERIT 2  ...   \n",
      "\n",
      "   DATA_DATE_VS_CREATED              Created1 REAL_CARGO_VOL  \\\n",
      "0                     1  2019-01-22T23:15:39Z       1957.541   \n",
      "1                     0  2019-01-22T23:15:40Z       7512.337   \n",
      "2                     0  2019-01-22T23:15:42Z       7522.280   \n",
      "3                     0  2019-01-22T23:15:43Z       7512.897   \n",
      "4                     0  2019-01-22T23:15:44Z       7557.452   \n",
      "..                  ...                   ...            ...   \n",
      "95                    1  2019-02-06T00:28:08Z       7509.110   \n",
      "96                    1  2019-02-07T16:50:28Z       7505.553   \n",
      "97                    1  2019-02-07T16:51:48Z       7522.350   \n",
      "98                    1  2019-02-07T16:53:41Z       7533.509   \n",
      "99                    1  2019-02-08T00:10:39Z       7522.408   \n",
      "\n",
      "   COMPLETED_MONTH_NAME COMPLETED_YEAR_NAME             Modified1  \\\n",
      "0                   JAN                2019  2019-01-22T23:15:39Z   \n",
      "1                   DEC                2018  2019-05-16T22:40:13Z   \n",
      "2                   DEC                2018  2019-05-16T20:52:49Z   \n",
      "3                   DEC                2018  2019-05-16T21:02:39Z   \n",
      "4                   DEC                2018  2019-05-17T17:30:56Z   \n",
      "..                  ...                 ...                   ...   \n",
      "95                  JAN                2019  2019-05-20T18:05:17Z   \n",
      "96                  FEB                2019  2019-05-17T19:46:17Z   \n",
      "97                  FEB                2019  2019-02-08T16:03:33Z   \n",
      "98                  FEB                2019  2019-02-07T22:17:18Z   \n",
      "99                  FEB                2019  2019-02-09T20:46:47Z   \n",
      "\n",
      "                   ModifiedBy FUEL BUNKERING  \\\n",
      "0                Arya Wirawan            NaN   \n",
      "1   M Sekargalih Renggowati R            NaN   \n",
      "2   M Sekargalih Renggowati R            NaN   \n",
      "3   M Sekargalih Renggowati R            NaN   \n",
      "4   M Sekargalih Renggowati R            NaN   \n",
      "..                        ...            ...   \n",
      "95  M Sekargalih Renggowati R        15000.0   \n",
      "96  M Sekargalih Renggowati R            NaN   \n",
      "97       Trophy Geo Disansyah            NaN   \n",
      "98       Trophy Geo Disansyah            NaN   \n",
      "99       Trophy Geo Disansyah            NaN   \n",
      "\n",
      "                                         Content Type Attachments  \n",
      "0   {'__deferred': {'uri': 'https://tmtgroup.share...       False  \n",
      "1   {'__deferred': {'uri': 'https://tmtgroup.share...       False  \n",
      "2   {'__deferred': {'uri': 'https://tmtgroup.share...       False  \n",
      "3   {'__deferred': {'uri': 'https://tmtgroup.share...       False  \n",
      "4   {'__deferred': {'uri': 'https://tmtgroup.share...       False  \n",
      "..                                                ...         ...  \n",
      "95  {'__deferred': {'uri': 'https://tmtgroup.share...       False  \n",
      "96  {'__deferred': {'uri': 'https://tmtgroup.share...       False  \n",
      "97  {'__deferred': {'uri': 'https://tmtgroup.share...       False  \n",
      "98  {'__deferred': {'uri': 'https://tmtgroup.share...       False  \n",
      "99  {'__deferred': {'uri': 'https://tmtgroup.share...       False  \n",
      "\n",
      "[100 rows x 78 columns]\n"
     ]
    }
   ],
   "source": [
    "# Get data from List\n",
    "\n",
    "list_object = ctx.web.lists.get_by_title(settings['LIST'])\n",
    "items = list_object.get_items()\n",
    "ctx.load(items)\n",
    "ctx.execute_query()\n",
    "list_items = []\n",
    "for item in items:\n",
    "    list_item = []\n",
    "    for field in fieldId:\n",
    "        list_item.append(item.properties[field])\n",
    "    list_items.append(list_item)\n",
    "df = pd.DataFrame(list_items, columns=fieldTitle)   \n",
    "csv_buffer = StringIO()\n",
    "df.to_csv(csv_buffer, index=False)\n",
    "print('TOTAL DATA: ', len(items))\n",
    "print(df)"
   ]
  },
  {
   "cell_type": "code",
   "execution_count": 21,
   "metadata": {},
   "outputs": [
    {
     "name": "stdout",
     "output_type": "stream",
     "text": [
      "Object URL:  bdd/raw/TR_TRIP_20190823140504.csv\n"
     ]
    }
   ],
   "source": [
    "now = datetime.now()\n",
    "datetime_string = now.strftime(\"%Y%m%d%H%M%S\")\n",
    "object_url = 'bdd/raw/TR_TRIP_{0}.csv'.format(datetime_string)\n",
    "\n",
    "s3_resource = boto3.resource('s3')\n",
    "s3_resource.Object(settings['S3_BUCKET'], object_url).put(Body=csv_buffer.getvalue())\n",
    "print('Object URL: ', object_url)"
   ]
  }
 ],
 "metadata": {
  "kernelspec": {
   "display_name": "Python 3",
   "language": "python",
   "name": "python3"
  },
  "language_info": {
   "codemirror_mode": {
    "name": "ipython",
    "version": 3
   },
   "file_extension": ".py",
   "mimetype": "text/x-python",
   "name": "python",
   "nbconvert_exporter": "python",
   "pygments_lexer": "ipython3",
   "version": "3.7.4"
  }
 },
 "nbformat": 4,
 "nbformat_minor": 4
}
