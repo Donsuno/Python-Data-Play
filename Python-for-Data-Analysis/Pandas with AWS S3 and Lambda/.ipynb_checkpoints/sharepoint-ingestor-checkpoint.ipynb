{
 "cells": [
  {
   "cell_type": "markdown",
   "metadata": {},
   "source": [
    "# "
   ]
  },
  {
   "cell_type": "code",
   "execution_count": 5,
   "metadata": {},
   "outputs": [],
   "source": [
    "settings = {\n",
    "    'URL': 'https://tmtgroup.sharepoint.com/sites/ABMDataPlatform',\n",
    "    'USERNAME': 'user',\n",
    "    'PASSWORD': 'password',\n",
    "    'LIST': 'TR_TRIP',\n",
    "    'S3_BUCKET': 'abm-data-platform-s3-raw'\n",
    "}"
   ]
  },
  {
   "cell_type": "code",
   "execution_count": 6,
   "metadata": {},
   "outputs": [],
   "source": [
    "from io import StringIO\n",
    "import json\n",
    "import pandas as pd\n",
    "import boto3\n",
    "from office365.runtime.auth.authentication_context import AuthenticationContext\n",
    "from office365.sharepoint.client_context import ClientContext\n",
    "from office365.runtime.utilities.request_options import RequestOptions\n",
    "from settings import settings\n",
    "\n",
    "ctxAuth = AuthenticationContext(url=settings['URL'])\n",
    "if ctxAuth.acquire_token_for_user(username=settings['USERNAME'], password=settings['PASSWORD']):\n",
    "    ctx = ClientContext(settings['URL'], ctxAuth)"
   ]
  },
  {
   "cell_type": "code",
   "execution_count": null,
   "metadata": {},
   "outputs": [],
   "source": [
    "list_items_all = []"
   ]
  },
  {
   "cell_type": "markdown",
   "metadata": {},
   "source": [
    "### Function to get field / column on sharepoint list"
   ]
  },
  {
   "cell_type": "code",
   "execution_count": null,
   "metadata": {},
   "outputs": [],
   "source": [
    "def sharepoint_get_fields(ctx):\n",
    "    \"\"\"Get fields\n",
    "    Get fields name from a List\n",
    "    \"\"\"\n",
    "    filter = \"Hidden eq false and ReadOnlyField eq false and Group eq 'Custom Columns'\"\n",
    "    options = RequestOptions(\n",
    "        \"{0}/_api/lists/getbytitle('TR_TRIP')/fields?$filter={1}\".format(settings['URL'], filter))\n",
    "    options.set_header('Accept', 'application/json')\n",
    "    options.set_header('Content-Type', 'application/json')\n",
    "    data = ctx.execute_request_direct(options)\n",
    "    fields = json.loads(data.content)\n",
    "    return fields\n"
   ]
  },
  {
   "cell_type": "markdown",
   "metadata": {},
   "source": [
    "### Function to get item or row data"
   ]
  },
  {
   "cell_type": "code",
   "execution_count": null,
   "metadata": {},
   "outputs": [],
   "source": [
    "def sharepoint_get_item(ctx, url=''):\n",
    "    \"\"\"Get items\n",
    "    Get items from a List\n",
    "    \"\"\"\n",
    "    if url == '':\n",
    "        url = \"{0}/_api/lists/getbytitle('TR_TRIP')/items\".format(settings['URL'])\n",
    "    options = RequestOptions(url)\n",
    "    options.set_header('Accept', 'application/json')\n",
    "    options.set_header('Content-Type', 'application/json')\n",
    "    data = ctx.execute_request_direct(options)\n",
    "    items = json.loads(data.content)\n",
    "    for item in items['value']:\n",
    "        list_items_all.append(item)\n",
    "\n",
    "    # If list items more than 100 data\n",
    "    if 'odata.nextLink' in items:\n",
    "        print('[+] Get next items:', items['odata.nextLink'])\n",
    "        sharepoint_get_item(ctx, items['odata.nextLink'])\n",
    "    return list_items_all"
   ]
  },
  {
   "cell_type": "markdown",
   "metadata": {},
   "source": [
    "### Function to read all data in sharepoint than transform to csv"
   ]
  },
  {
   "cell_type": "code",
   "execution_count": null,
   "metadata": {},
   "outputs": [],
   "source": [
    "def sharepoint_to_csv():\n",
    "    \"\"\"Export to CSV\n",
    "    Export items to CSV file\n",
    "    \"\"\"\n",
    "    ctxAuth = AuthenticationContext(url=settings['URL'])\n",
    "    if ctxAuth.acquire_token_for_user(username=settings['USERNAME'], password=settings['PASSWORD']):\n",
    "        ctx = ClientContext(settings['URL'], ctxAuth)\n",
    "\n",
    "        # Populate fields name from List dynamically\n",
    "        print('[+] Get fields name from a List')\n",
    "        fieldId = []\n",
    "        fieldTitle = []\n",
    "        fields = sharepoint_get_fields(ctx)\n",
    "        for field in fields['value']:\n",
    "            fieldId.append(field['EntityPropertyName'])\n",
    "            fieldTitle.append(field['Title'])\n",
    "\n",
    "        # Populate data to array\n",
    "        print('[+] Get items from a List')\n",
    "        items = sharepoint_get_item(ctx)\n",
    "        list_items = []\n",
    "        for item in items:\n",
    "            list_item = []\n",
    "            for field in fieldId:\n",
    "                list_item.append(item[field])\n",
    "            list_items.append(list_item)\n",
    "\n",
    "        print('[+] Total items:', len(list_items), ' item(s)')\n",
    "\n",
    "        # Create pandas dataframe from populated data\n",
    "        print('[+] Create pandas dataframe to CSV')\n",
    "        df = pd.DataFrame(list_items, columns=fieldTitle)\n",
    "        csv_buffer = StringIO()\n",
    "        df.to_csv(csv_buffer, index=False)\n",
    "\n",
    "        # Save CSV file to S3\n",
    "        print('[+] Upload CSV to S3')\n",
    "        object_url = 'bdd/raw/rawcsv_bdd_ds_tr_trip/TR_TRIP.csv'\n",
    "        s3_resource = boto3.resource('s3')\n",
    "        s3_resource.Object(settings['S3_BUCKET'], object_url).put(\n",
    "            Body=csv_buffer.getvalue())\n",
    "        print('[+] S3 Object URL:', settings['S3_BUCKET'] + object_url)\n",
    "    else:\n",
    "        print(ctxAuth.get_last_error())\n",
    "    return"
   ]
  },
  {
   "cell_type": "markdown",
   "metadata": {},
   "source": [
    "# --------------------------------------------------------------------------------------------------------"
   ]
  },
  {
   "cell_type": "code",
   "execution_count": 45,
   "metadata": {
    "collapsed": true,
    "jupyter": {
     "outputs_hidden": true
    }
   },
   "outputs": [
    {
     "name": "stdout",
     "output_type": "stream",
     "text": [
      "['Title', 'ID_MS_BARGE', 'FLEET_SPOT_NAME', 'SPOT_TUG', 'SPOT_BARGE', 'ID_MS_CUST_TR', 'ID_MS_SERVICE_TR', 'CARGO_NUM', 'TRV_NUM', 'MV_NAME_LOOK', 'DATA_OWNER', 'DATA_DATE', 'POL_TXT', 'POD_TXT', 'VESS_POL_ARR', 'VESS_POL_ASIDE', 'VESS_POL_COMM_LOAD', 'VESS_POL_COMP_LOAD', 'VESS_POL_COFF', 'DOC_POL_OVERHD', 'DOC_POL_ONB', 'VESS_POL_DEP', 'VESS_POD_ARR', 'VESS_POD_ASIDE', 'VESS_POD_COMM_LOAD', 'VESS_POD_COMP_LOAD', 'VESS_POD_COFF', 'VESS_POD_DEP', 'VESS_POL_ARR_2', 'ASSIST_POL_IN', 'ASSIST_POL_OUT', 'ASSIST_POD_IN', 'ASSIST_POD_OUT', 'BUNKER_ROB_2', 'BUNKER_ROB_1', 'COST_AGENCY_NUM', 'COST_DUES_NUM', 'REMARKS_TXT', 'BONUS_TRNSHP_NUM', 'ID_MS_FLEET_TR_x003a_ID_MS_FLEET', 'ID_MS_CUST_TR_x003a_ID_MS_CUST', 'ID_MS_SERVICE_TR_x003a_ID_MS_SER', 'STAT_TXT', 'TOTAL_BUNKER_CONS', 'SAVING_BUNKER', 'VOYAGE_CODE', 'ID_MS_BARGE_x003a_ID_MS_BARGE', 'CHECK_DATEFILL', 'MONTH_NAME', 'YEAR_NAME', 'FLEET_ACTIVITY_STATUS', 'FLEET_LOCATION', 'FLEET_ACTIVITY_DATE', 'STATUS_RC', 'RC_CARGO_VOLUME', 'MV_COMPLETION', 'MV_NAME_LOOK_x003a_ID', 'DATA_LOCATION', 'FLEET_ASSIST_BY', 'MV_NAME_LOOK_x003a_ETA', 'MV_NAME_LOOK_x003a_BA_NUMBER', 'MV_NAME_LOOK_x003a_MV_VOLUME', 'MV_NAME_LOOK_x003a_ETA_MONTH', 'MV_NAME_LOOK_x003a_ETA_YEAR', 'MV_NAME_LOOK_x003a_MV_COMPLETION', 'MV_NAME_LOOK_x003a_MV_COMPLETION0', 'MV_NAME_LOOK_x003a_MV_STOWAGE_PL', 'LOADING_RATE', 'DATA_DATE_VS_CREATED', 'Created1', 'REAL_CARGO_VOL', 'COMPLETED_MONTH_NAME', 'COMPLETED_YEAR_NAME', 'Modified1', 'ModifiedBy', 'FUEL_x0020_BUNKERING', 'Attachments']\n"
     ]
    }
   ],
   "source": [
    "print(fieldId)"
   ]
  },
  {
   "cell_type": "code",
   "execution_count": 65,
   "metadata": {},
   "outputs": [
    {
     "name": "stdout",
     "output_type": "stream",
     "text": [
      "['ID_MS_FLEET_TR', 'ID_MS_BARGE', 'FLEET_SPOT_NAME', 'SPOT_TUG', 'SPOT_BARGE', 'ID_MS_CUST_TR', 'ID_MS_SERVICE_TR', 'CARGO_NUM', 'TRV_NUM', 'MV_NAME_LOOK', 'DATA_OWNER', 'DATA_DATE', 'POL_TXT', 'POD_TXT', 'VESS_POL_ARR', 'VESS_POL_ASIDE', 'VESS_POL_COMM_LOAD', 'VESS_POL_COMP_LOAD', 'VESS_POL_COFF', 'DOC_POL_OVERHD', 'DOC_POL_ONB', 'VESS_POL_DEP', 'VESS_POD_ARR', 'VESS_POD_ASIDE', 'VESS_POD_COMM_LOAD', 'VESS_POD_COMP_LOAD', 'VESS_POD_COFF', 'VESS_POD_DEP', 'VESS_POL_ARR_2', 'ASSIST_POL_IN', 'ASSIST_POL_OUT', 'ASSIST_POD_IN', 'ASSIST_POD_OUT', 'BUNKER_ROB_2', 'BUNKER_ROB_1', 'COST_AGENCY_NUM', 'COST_DUES_NUM', 'REMARKS_TXT', 'BONUS_TRNSHP_NUM', 'ID_MS_FLEET_TR:ID_MS_FLEET', 'ID_MS_CUST_TR:ID_MS_CUST', 'ID_MS_SERVICE_TR:ID_MS_SERVICE', 'STAT_TXT', 'TOTAL_BUNKER_CONS', 'SAVING_BUNKER', 'VOYAGE_CODE', 'ID_MS_BARGE:ID_MS_BARGE', 'CHECK_DATEFILL', 'MONTH_NAME', 'YEAR_NAME', 'FLEET_ACTIVITY_STATUS', 'FLEET_LOCATION', 'FLEET_ACTIVITY_DATE', 'STATUS_RC', 'RC_CARGO_VOLUME', 'MV_COMPLETION', 'MV_NAME_LOOK:ID', 'DATA_LOCATION', 'FLEET_ASSIST_BY', 'MV_NAME_LOOK:ETA', 'MV_NAME_LOOK:BA_NUMBER', 'MV_NAME_LOOK:MV_VOLUME', 'MV_NAME_LOOK:ETA_MONTH', 'MV_NAME_LOOK:ETA_YEAR', 'MV_NAME_LOOK:MV_COMPLETION_TEXT', 'MV_NAME_LOOK:MV_COMPLETION_DATE', 'MV_NAME_LOOK:MV_STOWAGE_PLAN', 'LOADING_RATE', 'DATA_DATE_VS_CREATED', 'Created1', 'REAL_CARGO_VOL', 'COMPLETED_MONTH_NAME', 'COMPLETED_YEAR_NAME', 'Modified1', 'ModifiedBy', 'FUEL BUNKERING', 'Content Type', 'Attachments']\n"
     ]
    }
   ],
   "source": [
    "print(fieldTitle)"
   ]
  },
  {
   "cell_type": "code",
   "execution_count": 53,
   "metadata": {},
   "outputs": [
    {
     "name": "stdout",
     "output_type": "stream",
     "text": [
      "[['KAILI II', 'MOANA II', None, None, None, 'TIA', 'TRANSHIPMENT', 1957.541, 7.0, 'MV. ADRIATICA GRAECA', 'Trophy Geo Disansyah', '2019-01-07T23:00:00Z', 'Bunati Anchorage', 'Bunati Anchorage', None, None, None, None, None, None, None, None, '2018-12-31T19:00:00Z', '2018-12-31T20:40:00Z', '2018-12-31T21:40:00Z', '2019-01-01T01:25:00Z', '2019-01-01T01:35:00Z', '2019-01-01T01:50:00Z', '2019-01-01T23:00:00Z', None, None, 'KAILI I', 'TRISTAN SATU', 19458.0, 21024.0, None, None, 'Rc from mv aifanourios', None, '2.00000000000000', '1.00000000000000', '1.00000000000000', None, 1566.0, 1134.0, None, '2.00000000000000', 1.0, 'JAN', '2019', 'Full Away to Bunati', 'N/A', '22-01-2019 00:15', True, 1957.541, True, '209', 'SITE BUNATI', None, '2018-12-21 15:00:00', None, '69728.2840000000', None, None, None, None, '72800.0000000000', None, 1.0, '2019-01-22T23:15:39Z', 1957.541, 'JAN', '2019', '2019-01-22T23:15:39Z', 'Arya Wirawan', None, False], ['TRISTAN SATU', 'AQUILA SATU', None, None, None, 'TIA', 'TRANSHIPMENT', 7512.337, 6.0, 'MV. ADRIATICA GRAECA', 'Kurnia Fidiantoro', '2018-12-29T08:00:00Z', 'Jetty TIA East', 'Bunati Anchorage', '2018-12-29T16:40:00Z', '2018-12-30T08:25:00Z', '2018-12-30T13:10:00Z', '2018-12-30T23:55:00Z', '2018-12-31T00:05:00Z', '2018-12-31T02:45:00Z', '2018-12-31T04:20:00Z', '2018-12-31T16:00:00Z', '2019-01-01T02:00:00Z', '2019-01-01T04:00:00Z', '2019-01-01T04:00:00Z', '2019-01-01T14:25:00Z', '2019-01-01T14:35:00Z', None, None, 'KAILI III', 'KAILI V', 'KAILI II', 'KAILI II', None, 29868.0, None, None, None, None, '8.00000000000000', '1.00000000000000', '1.00000000000000', None, 29868.0, -27168.0, None, '9.00000000000000', 1.0, 'DEC', '2018', 'Completed Discharge', 'Trip To Jetty', '01-01-2019 06:35', True, None, True, '209', 'SITE BUNATI', None, '2018-12-21 15:00:00', None, '69728.2840000000', None, None, None, None, '72800.0000000000', 751.2337, 0.0, '2019-01-22T23:15:40Z', 7512.337, 'DEC', '2018', '2019-05-16T22:40:13Z', 'M Sekargalih Renggowati R', None, False], ['KAILI III', 'MOANA III', None, None, None, 'TIA', 'TRANSHIPMENT', 7522.28, 6.0, 'MV. ADRIATICA GRAECA', 'Trophy Geo Disansyah', '2018-12-29T08:00:00Z', 'Jetty TIA West', 'Bunati Anchorage', '2018-12-30T03:45:00Z', '2018-12-31T01:25:00Z', '2018-12-31T01:40:00Z', '2018-12-31T08:30:00Z', '2018-12-31T08:40:00Z', '2018-12-31T17:00:00Z', '2018-12-31T19:00:00Z', '2018-12-31T21:10:00Z', '2019-01-01T07:00:00Z', '2019-01-01T15:30:00Z', '2019-01-01T15:30:00Z', '2019-01-02T02:45:00Z', '2019-01-02T03:00:00Z', None, None, 'KAILI V', 'KAILI VII', 'KAILI II', 'KAILI VII', None, 19905.0, None, None, None, None, '3.00000000000000', '1.00000000000000', '1.00000000000000', None, 19905.0, -17205.0, None, '3.00000000000000', 1.0, 'DEC', '2018', 'Completed Discharge', 'Trip To Jetty', '01-01-2019 19:00', True, None, True, '209', 'SITE BUNATI', None, '2018-12-21 15:00:00', None, '69728.2840000000', None, None, None, None, '72800.0000000000', 1253.71333333333, 0.0, '2019-01-22T23:15:42Z', 7522.28, 'DEC', '2018', '2019-05-16T20:52:49Z', 'M Sekargalih Renggowati R', None, False], ['KAILI V', 'MOANA V', None, None, None, 'TIA', 'TRANSHIPMENT', 7512.897, 7.0, 'MV. ADRIATICA GRAECA', 'Trophy Geo Disansyah', '2018-12-30T08:00:00Z', 'Jetty TIA East', 'Bunati Anchorage', '2018-12-30T13:30:00Z', '2018-12-31T09:05:00Z', '2018-12-31T14:25:00Z', '2018-12-31T22:50:00Z', '2018-12-31T23:00:00Z', '2019-01-01T01:00:00Z', '2019-01-01T03:45:00Z', '2019-01-01T16:45:00Z', '2019-01-02T00:10:00Z', '2019-01-02T07:30:00Z', '2019-01-02T07:30:00Z', '2019-01-02T17:45:00Z', '2019-01-02T18:00:00Z', None, None, 'KAILI VII', 'KAILI VII', 'KAILI VII', 'KAILI VI', None, 23961.0, None, None, None, None, '4.00000000000000', '1.00000000000000', '1.00000000000000', None, 23961.0, -21261.0, None, '5.00000000000000', 1.0, 'DEC', '2018', 'Completed Discharge', 'Trip To Jetty', '02-01-2019 10:00', True, None, True, '209', 'SITE BUNATI', None, '2018-12-21 15:00:00', None, '69728.2840000000', None, None, None, None, '72800.0000000000', 939.112125, 0.0, '2019-01-22T23:15:43Z', 7512.897, 'DEC', '2018', '2019-05-16T21:02:39Z', 'M Sekargalih Renggowati R', None, False], ['KAILI VII', 'MOANA VII', None, None, None, 'TIA', 'TRANSHIPMENT', 7557.452, 6.0, 'MV. ADRIATICA GRAECA', 'Trophy Geo Disansyah', '2018-12-30T08:00:00Z', 'Jetty TIA West', 'Bunati Anchorage', '2018-12-31T00:50:00Z', '2018-12-31T15:25:00Z', '2018-12-31T23:00:00Z', '2019-01-01T05:50:00Z', '2019-01-01T06:00:00Z', '2019-01-01T07:30:00Z', '2019-01-01T09:30:00Z', '2019-01-01T17:00:00Z', '2019-01-01T23:45:00Z', '2019-01-02T18:35:00Z', '2019-01-02T18:35:00Z', '2019-01-03T07:50:00Z', '2019-01-03T08:00:00Z', None, None, 'KAILI V', 'KAILI VI', 'KAILI VI', 'KAILI I', None, 21485.0, None, None, None, None, '6.00000000000000', '1.00000000000000', '1.00000000000000', None, 21485.0, -18785.0, None, '7.00000000000000', 1.0, 'DEC', '2018', 'Completed Discharge', 'Trip To Jetty', '03-01-2019 00:00', True, None, True, '209', 'SITE BUNATI', None, '2018-12-21 15:00:00', None, '69728.2840000000', None, None, None, None, '72800.0000000000', 1259.57533333333, 0.0, '2019-01-22T23:15:44Z', 7557.452, 'DEC', '2018', '2019-05-17T17:30:56Z', 'M Sekargalih Renggowati R', None, False]]\n"
     ]
    }
   ],
   "source": [
    "# Get next URL\n",
    "options = RequestOptions(\"{0}/_api/lists/getbytitle('TR_TRIP')/items?$top=5\".format(settings['URL']))\n",
    "options.set_header('Accept', 'application/json')\n",
    "options.set_header('Content-Type', 'application/json')\n",
    "data = ctx.execute_request_direct(options)\n",
    "items = json.loads(data.content)\n",
    "list_items = []\n",
    "for item in items['value']:\n",
    "    list_item = []\n",
    "    for field in fieldId:\n",
    "        list_item.append(item[field])\n",
    "    list_items.append(list_item)\n",
    "print(list_items)"
   ]
  },
  {
   "cell_type": "code",
   "execution_count": 21,
   "metadata": {},
   "outputs": [
    {
     "name": "stdout",
     "output_type": "stream",
     "text": [
      "Object URL:  bdd/raw/TR_TRIP_20190823140504.csv\n"
     ]
    }
   ],
   "source": [
    "now = datetime.now()\n",
    "datetime_string = now.strftime(\"%Y%m%d%H%M%S\")\n",
    "object_url = 'bdd/raw/TR_TRIP_{0}.csv'.format(datetime_string)\n",
    "\n",
    "s3_resource = boto3.resource('s3')\n",
    "s3_resource.Object(settings['S3_BUCKET'], object_url).put(Body=csv_buffer.getvalue())\n",
    "print('Object URL: ', object_url)"
   ]
  }
 ],
 "metadata": {
  "kernelspec": {
   "display_name": "Python 3",
   "language": "python",
   "name": "python3"
  },
  "language_info": {
   "codemirror_mode": {
    "name": "ipython",
    "version": 3
   },
   "file_extension": ".py",
   "mimetype": "text/x-python",
   "name": "python",
   "nbconvert_exporter": "python",
   "pygments_lexer": "ipython3",
   "version": "3.7.4"
  }
 },
 "nbformat": 4,
 "nbformat_minor": 4
}
