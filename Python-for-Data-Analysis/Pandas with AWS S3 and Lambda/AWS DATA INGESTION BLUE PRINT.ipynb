{
 "cells": [
  {
   "cell_type": "markdown",
   "metadata": {},
   "source": [
    "# ----------------------------------------------------------------------------------------------------------\n",
    "# AWS DATA INGESTION\n",
    "# ----------------------------------------------------------------------------------------------------------"
   ]
  },
  {
   "cell_type": "markdown",
   "metadata": {},
   "source": [
    "___\n",
    "\n",
    "<a> <img src='img\\architecture_v2.png' width=\"1000\" /></a>\n",
    "___"
   ]
  },
  {
   "cell_type": "markdown",
   "metadata": {},
   "source": [
    "### Import libraries\n",
    "Make sure you install each of module / library \n",
    "\n",
    "* pip install 'module name' on your command prompt"
   ]
  },
  {
   "cell_type": "code",
   "execution_count": 1,
   "metadata": {},
   "outputs": [],
   "source": [
    "import boto3\n",
    "import io \n",
    "import pandas as pd\n",
    "import json\n",
    "import time\n",
    "import datetime\n",
    "import numpy as np\n",
    "import s3fs\n",
    "import awswrangler\n",
    "from datetime import datetime\n",
    "from datetime import timedelta\n"
   ]
  },
  {
   "cell_type": "markdown",
   "metadata": {},
   "source": [
    "## 1. Excel / Flat Files Data Sources"
   ]
  },
  {
   "cell_type": "markdown",
   "metadata": {},
   "source": [
    "### Below is the architecture plan:"
   ]
  },
  {
   "cell_type": "markdown",
   "metadata": {},
   "source": [
    "___\n",
    "\n",
    "<a> <img src='img\\xl_ingest_pic_v2.png' width=\"1000\" /></a>\n",
    "___"
   ]
  },
  {
   "cell_type": "code",
   "execution_count": 4,
   "metadata": {},
   "outputs": [
    {
     "data": {
      "text/plain": [
       "{'ResponseMetadata': {'RequestId': 'D9AC0B7764E5F257',\n",
       "  'HostId': 'ovPbQeaYpKK7hlX3BWSiqn880aML/xDQUyQtAQq8P5naGCpY5ITXCNHkq+v8FRuZZOj8JqWSc6Y=',\n",
       "  'HTTPStatusCode': 200,\n",
       "  'HTTPHeaders': {'x-amz-id-2': 'ovPbQeaYpKK7hlX3BWSiqn880aML/xDQUyQtAQq8P5naGCpY5ITXCNHkq+v8FRuZZOj8JqWSc6Y=',\n",
       "   'x-amz-request-id': 'D9AC0B7764E5F257',\n",
       "   'date': 'Wed, 28 Aug 2019 10:22:40 GMT',\n",
       "   'last-modified': 'Wed, 28 Aug 2019 02:20:27 GMT',\n",
       "   'etag': '\"ccf2c7325f7ab9b9c7976e00f0d5c981\"',\n",
       "   'accept-ranges': 'bytes',\n",
       "   'content-type': 'application/vnd.openxmlformats-officedocument.spreadsheetml.sheet',\n",
       "   'content-length': '9772',\n",
       "   'server': 'AmazonS3'},\n",
       "  'RetryAttempts': 0},\n",
       " 'AcceptRanges': 'bytes',\n",
       " 'LastModified': datetime.datetime(2019, 8, 28, 2, 20, 27, tzinfo=tzutc()),\n",
       " 'ContentLength': 9772,\n",
       " 'ETag': '\"ccf2c7325f7ab9b9c7976e00f0d5c981\"',\n",
       " 'ContentType': 'application/vnd.openxmlformats-officedocument.spreadsheetml.sheet',\n",
       " 'Metadata': {},\n",
       " 'Body': <botocore.response.StreamingBody at 0x2498860e248>}"
      ]
     },
     "execution_count": 4,
     "metadata": {},
     "output_type": "execute_result"
    }
   ],
   "source": [
    "#define bucket address where your data is placed to be read\n",
    "bucket_name = 'mst-lab-data'\n",
    "object_key = 'input/user_007/rawtest2.xlsx'\n",
    "# s3 = boto3.client('s3', aws_access_key_id=aws_id, aws_secret_access_key=aws_secret) #not secured way consider using AWS CLI\n",
    "s3 = boto3.client('s3') #to call library which enable we talk to aws environment (S3)\n",
    "obj = s3.get_object(Bucket=bucket_name, Key=object_key) #\n",
    "obj"
   ]
  },
  {
   "cell_type": "code",
   "execution_count": 5,
   "metadata": {},
   "outputs": [
    {
     "data": {
      "text/html": [
       "<div>\n",
       "<style scoped>\n",
       "    .dataframe tbody tr th:only-of-type {\n",
       "        vertical-align: middle;\n",
       "    }\n",
       "\n",
       "    .dataframe tbody tr th {\n",
       "        vertical-align: top;\n",
       "    }\n",
       "\n",
       "    .dataframe thead th {\n",
       "        text-align: right;\n",
       "    }\n",
       "</style>\n",
       "<table border=\"1\" class=\"dataframe\">\n",
       "  <thead>\n",
       "    <tr style=\"text-align: right;\">\n",
       "      <th></th>\n",
       "      <th>date</th>\n",
       "      <th>site</th>\n",
       "      <th>prod</th>\n",
       "    </tr>\n",
       "  </thead>\n",
       "  <tbody>\n",
       "    <tr>\n",
       "      <th>0</th>\n",
       "      <td>2019-01-01</td>\n",
       "      <td>x</td>\n",
       "      <td>200</td>\n",
       "    </tr>\n",
       "    <tr>\n",
       "      <th>1</th>\n",
       "      <td>2019-01-02</td>\n",
       "      <td>x</td>\n",
       "      <td>100</td>\n",
       "    </tr>\n",
       "  </tbody>\n",
       "</table>\n",
       "</div>"
      ],
      "text/plain": [
       "        date site  prod\n",
       "0 2019-01-01    x   200\n",
       "1 2019-01-02    x   100"
      ]
     },
     "execution_count": 5,
     "metadata": {},
     "output_type": "execute_result"
    }
   ],
   "source": [
    "#define bucket address where your data is placed to be read\n",
    "bucket_name = 'mst-lab-data'\n",
    "object_key = 'input/user_007/rawtest2.xlsx'\n",
    "# s3 = boto3.client('s3', aws_access_key_id=aws_id, aws_secret_access_key=aws_secret) #not secured way consider using AWS CLI\n",
    "s3 = boto3.client('s3') #to call library which enable we talk to aws environment (S3)\n",
    "obj = s3.get_object(Bucket=bucket_name, Key=object_key) #\n",
    "data = obj['Body'].read()\n",
    "df = pd.read_excel(io.BytesIO(data), encoding='utf-8')\n",
    "df.head()"
   ]
  },
  {
   "cell_type": "markdown",
   "metadata": {},
   "source": [
    "## Check blank columns and blank rows"
   ]
  },
  {
   "cell_type": "markdown",
   "metadata": {},
   "source": [
    "Re-read the data"
   ]
  },
  {
   "cell_type": "code",
   "execution_count": 7,
   "metadata": {},
   "outputs": [
    {
     "data": {
      "text/html": [
       "<div>\n",
       "<style scoped>\n",
       "    .dataframe tbody tr th:only-of-type {\n",
       "        vertical-align: middle;\n",
       "    }\n",
       "\n",
       "    .dataframe tbody tr th {\n",
       "        vertical-align: top;\n",
       "    }\n",
       "\n",
       "    .dataframe thead th {\n",
       "        text-align: right;\n",
       "    }\n",
       "</style>\n",
       "<table border=\"1\" class=\"dataframe\">\n",
       "  <thead>\n",
       "    <tr style=\"text-align: right;\">\n",
       "      <th></th>\n",
       "      <th>0</th>\n",
       "      <th>1</th>\n",
       "      <th>2</th>\n",
       "      <th>3</th>\n",
       "    </tr>\n",
       "  </thead>\n",
       "  <tbody>\n",
       "    <tr>\n",
       "      <th>0</th>\n",
       "      <td>date</td>\n",
       "      <td>site</td>\n",
       "      <td>NaN</td>\n",
       "      <td>prod</td>\n",
       "    </tr>\n",
       "    <tr>\n",
       "      <th>1</th>\n",
       "      <td>2019-01-01 00:00:00</td>\n",
       "      <td>x</td>\n",
       "      <td>NaN</td>\n",
       "      <td>200</td>\n",
       "    </tr>\n",
       "    <tr>\n",
       "      <th>2</th>\n",
       "      <td>2019-01-02 00:00:00</td>\n",
       "      <td>x</td>\n",
       "      <td>NaN</td>\n",
       "      <td>100</td>\n",
       "    </tr>\n",
       "    <tr>\n",
       "      <th>3</th>\n",
       "      <td>NaN</td>\n",
       "      <td>NaN</td>\n",
       "      <td>NaN</td>\n",
       "      <td>NaN</td>\n",
       "    </tr>\n",
       "    <tr>\n",
       "      <th>4</th>\n",
       "      <td>2019-01-03 00:00:00</td>\n",
       "      <td>x</td>\n",
       "      <td>NaN</td>\n",
       "      <td>400</td>\n",
       "    </tr>\n",
       "  </tbody>\n",
       "</table>\n",
       "</div>"
      ],
      "text/plain": [
       "                     0     1   2     3\n",
       "0                 date  site NaN  prod\n",
       "1  2019-01-01 00:00:00     x NaN   200\n",
       "2  2019-01-02 00:00:00     x NaN   100\n",
       "3                  NaN   NaN NaN   NaN\n",
       "4  2019-01-03 00:00:00     x NaN   400"
      ]
     },
     "execution_count": 7,
     "metadata": {},
     "output_type": "execute_result"
    }
   ],
   "source": [
    "#define bucket address where your data is placed to be read\n",
    "bucket_name = 'mst-lab-data'\n",
    "object_key = 'input/user_007/rawtest3.xlsx'\n",
    "# s3 = boto3.client('s3', aws_access_key_id=aws_id, aws_secret_access_key=aws_secret) #not secured way consider using AWS CLI\n",
    "s3 = boto3.client('s3') #to call library which enable we talk to aws environment (S3)\n",
    "obj = s3.get_object(Bucket=bucket_name, Key=object_key) #\n",
    "data = obj['Body'].read()\n",
    "datarawcheck = pd.read_excel(io.BytesIO(data), encoding='utf-8',sheet_name='input', header=None)\n",
    "datarawcheck.head()"
   ]
  },
  {
   "cell_type": "markdown",
   "metadata": {},
   "source": [
    "Blank column checking"
   ]
  },
  {
   "cell_type": "code",
   "execution_count": 8,
   "metadata": {},
   "outputs": [
    {
     "data": {
      "text/plain": [
       "[2]"
      ]
     },
     "execution_count": 8,
     "metadata": {},
     "output_type": "execute_result"
    }
   ],
   "source": [
    "cols_skip=[]\n",
    "# pd.isna(datarawcheck[2])\n",
    "for i in range(datarawcheck.shape[1]):\n",
    "        if (((pd.isna(datarawcheck[i])).nunique()) == 1 ) & ((((pd.isna(datarawcheck[i])).unique())[0])==True):\n",
    "            cols_skip.append(i)\n",
    "        else:\n",
    "            continue\n",
    "cols_skip\n"
   ]
  },
  {
   "cell_type": "markdown",
   "metadata": {},
   "source": [
    "Get non blank columns"
   ]
  },
  {
   "cell_type": "code",
   "execution_count": 9,
   "metadata": {},
   "outputs": [
    {
     "data": {
      "text/plain": [
       "[0, 1, 3]"
      ]
     },
     "execution_count": 9,
     "metadata": {},
     "output_type": "execute_result"
    }
   ],
   "source": [
    "cols = [i for i in range(len(datarawcheck.columns)) if i not in cols_skip]\n",
    "cols"
   ]
  },
  {
   "cell_type": "markdown",
   "metadata": {},
   "source": [
    "Blank row checking"
   ]
  },
  {
   "cell_type": "code",
   "execution_count": 10,
   "metadata": {},
   "outputs": [
    {
     "data": {
      "text/plain": [
       "[3]"
      ]
     },
     "execution_count": 10,
     "metadata": {},
     "output_type": "execute_result"
    }
   ],
   "source": [
    "rows_skip=[]\n",
    "for i in range(len(datarawcheck.iloc[i])):\n",
    "    if (((pd.isna(datarawcheck.iloc[i])).nunique()) == 1 ) & ((((pd.isna(datarawcheck.iloc[i])).unique())[0])==True):\n",
    "        rows_skip.append(i)\n",
    "    else:\n",
    "        continue\n",
    "rows_skip"
   ]
  },
  {
   "cell_type": "code",
   "execution_count": 11,
   "metadata": {},
   "outputs": [],
   "source": [
    "rows=rows_skip"
   ]
  },
  {
   "cell_type": "code",
   "execution_count": 12,
   "metadata": {},
   "outputs": [
    {
     "data": {
      "text/html": [
       "<div>\n",
       "<style scoped>\n",
       "    .dataframe tbody tr th:only-of-type {\n",
       "        vertical-align: middle;\n",
       "    }\n",
       "\n",
       "    .dataframe tbody tr th {\n",
       "        vertical-align: top;\n",
       "    }\n",
       "\n",
       "    .dataframe thead th {\n",
       "        text-align: right;\n",
       "    }\n",
       "</style>\n",
       "<table border=\"1\" class=\"dataframe\">\n",
       "  <thead>\n",
       "    <tr style=\"text-align: right;\">\n",
       "      <th></th>\n",
       "      <th>date</th>\n",
       "      <th>site</th>\n",
       "      <th>prod</th>\n",
       "    </tr>\n",
       "  </thead>\n",
       "  <tbody>\n",
       "    <tr>\n",
       "      <th>0</th>\n",
       "      <td>2019-01-01</td>\n",
       "      <td>x</td>\n",
       "      <td>200</td>\n",
       "    </tr>\n",
       "    <tr>\n",
       "      <th>1</th>\n",
       "      <td>2019-01-02</td>\n",
       "      <td>x</td>\n",
       "      <td>100</td>\n",
       "    </tr>\n",
       "    <tr>\n",
       "      <th>2</th>\n",
       "      <td>2019-01-03</td>\n",
       "      <td>x</td>\n",
       "      <td>400</td>\n",
       "    </tr>\n",
       "  </tbody>\n",
       "</table>\n",
       "</div>"
      ],
      "text/plain": [
       "        date site  prod\n",
       "0 2019-01-01    x   200\n",
       "1 2019-01-02    x   100\n",
       "2 2019-01-03    x   400"
      ]
     },
     "execution_count": 12,
     "metadata": {},
     "output_type": "execute_result"
    }
   ],
   "source": [
    "cleandata = pd.read_excel(io.BytesIO(data),\n",
    "                            sheet_name='input',\n",
    "                            skiprows=rows,\n",
    "                            usecols=cols)\n",
    "cleandata"
   ]
  },
  {
   "cell_type": "markdown",
   "metadata": {},
   "source": [
    "### How to generate timestamp for current event\n",
    "It'll be usefull for us if we want to get the current time's event"
   ]
  },
  {
   "cell_type": "code",
   "execution_count": 13,
   "metadata": {},
   "outputs": [
    {
     "name": "stdout",
     "output_type": "stream",
     "text": [
      "2019-08-28 17:27:00.338582\n"
     ]
    }
   ],
   "source": [
    "dateTimeObj = datetime.now()\n",
    "print(dateTimeObj)"
   ]
  },
  {
   "cell_type": "markdown",
   "metadata": {},
   "source": [
    "### Change it into string so we can use it as the name of data if we want"
   ]
  },
  {
   "cell_type": "code",
   "execution_count": 14,
   "metadata": {},
   "outputs": [
    {
     "data": {
      "text/plain": [
       "'201982817270.csv'"
      ]
     },
     "execution_count": 14,
     "metadata": {},
     "output_type": "execute_result"
    }
   ],
   "source": [
    "yr= str(dateTimeObj.year)\n",
    "mo= str(dateTimeObj.month)\n",
    "day= str(dateTimeObj.day)\n",
    "hr= str(dateTimeObj.hour)\n",
    "mn= str(dateTimeObj.minute)\n",
    "sc= str(dateTimeObj.second)\n",
    "up_filename=yr+mo+day+hr+mn+sc+'.csv'\n",
    "up_filename"
   ]
  },
  {
   "cell_type": "markdown",
   "metadata": {},
   "source": [
    "### Add the uploadername and the timestamp they upload"
   ]
  },
  {
   "cell_type": "code",
   "execution_count": 15,
   "metadata": {
    "scrolled": true
   },
   "outputs": [
    {
     "data": {
      "text/html": [
       "<div>\n",
       "<style scoped>\n",
       "    .dataframe tbody tr th:only-of-type {\n",
       "        vertical-align: middle;\n",
       "    }\n",
       "\n",
       "    .dataframe tbody tr th {\n",
       "        vertical-align: top;\n",
       "    }\n",
       "\n",
       "    .dataframe thead th {\n",
       "        text-align: right;\n",
       "    }\n",
       "</style>\n",
       "<table border=\"1\" class=\"dataframe\">\n",
       "  <thead>\n",
       "    <tr style=\"text-align: right;\">\n",
       "      <th></th>\n",
       "      <th>date</th>\n",
       "      <th>site</th>\n",
       "      <th>prod</th>\n",
       "      <th>timestamp</th>\n",
       "      <th>useropluad</th>\n",
       "    </tr>\n",
       "  </thead>\n",
       "  <tbody>\n",
       "    <tr>\n",
       "      <th>0</th>\n",
       "      <td>2019-01-01</td>\n",
       "      <td>x</td>\n",
       "      <td>200</td>\n",
       "      <td>2019-08-28 17:27:00.338582</td>\n",
       "      <td>input/user_007/rawtest3.xlsx</td>\n",
       "    </tr>\n",
       "    <tr>\n",
       "      <th>1</th>\n",
       "      <td>2019-01-02</td>\n",
       "      <td>x</td>\n",
       "      <td>100</td>\n",
       "      <td>2019-08-28 17:27:00.338582</td>\n",
       "      <td>input/user_007/rawtest3.xlsx</td>\n",
       "    </tr>\n",
       "    <tr>\n",
       "      <th>2</th>\n",
       "      <td>2019-01-03</td>\n",
       "      <td>x</td>\n",
       "      <td>400</td>\n",
       "      <td>2019-08-28 17:27:00.338582</td>\n",
       "      <td>input/user_007/rawtest3.xlsx</td>\n",
       "    </tr>\n",
       "  </tbody>\n",
       "</table>\n",
       "</div>"
      ],
      "text/plain": [
       "        date site  prod                  timestamp  \\\n",
       "0 2019-01-01    x   200 2019-08-28 17:27:00.338582   \n",
       "1 2019-01-02    x   100 2019-08-28 17:27:00.338582   \n",
       "2 2019-01-03    x   400 2019-08-28 17:27:00.338582   \n",
       "\n",
       "                     useropluad  \n",
       "0  input/user_007/rawtest3.xlsx  \n",
       "1  input/user_007/rawtest3.xlsx  \n",
       "2  input/user_007/rawtest3.xlsx  "
      ]
     },
     "execution_count": 15,
     "metadata": {},
     "output_type": "execute_result"
    }
   ],
   "source": [
    "cleandata['timestamp']=dateTimeObj\n",
    "cleandata['useropluad']=object_key\n",
    "cleandata"
   ]
  },
  {
   "cell_type": "markdown",
   "metadata": {},
   "source": [
    "### Upload the dataframe into S3 bucket using boto3"
   ]
  },
  {
   "cell_type": "code",
   "execution_count": 18,
   "metadata": {},
   "outputs": [],
   "source": [
    "# define target bucket to load the data\n",
    "target_bucket='mst-lab-data'\n",
    "target_object='output/'+up_filename\n",
    "csv_buffer = io.StringIO()\n",
    "cleandata.to_csv(csv_buffer, index=False)\n",
    "s3_resource = boto3.resource('s3')\n",
    "s3_resource.Object(target_bucket,target_object ).put(Body=csv_buffer.getvalue());"
   ]
  },
  {
   "cell_type": "markdown",
   "metadata": {},
   "source": [
    "### Upload the dataframe into S3 bucket using s3fs library (a bit slower)"
   ]
  },
  {
   "cell_type": "code",
   "execution_count": 175,
   "metadata": {
    "jupyter": {
     "outputs_hidden": true
    }
   },
   "outputs": [],
   "source": [
    "bytes_to_write = cleandata.to_csv(None,index=False ).encode()\n",
    "fs = s3fs.S3FileSystem()\n",
    "with fs.open('s3://blueprint-group-rawdata/subgroup_1-rawdata/robert_raw1_csv/'+up_filename, 'wb') as f:\n",
    "    f.write(bytes_to_write)"
   ]
  },
  {
   "cell_type": "markdown",
   "metadata": {},
   "source": [
    "### add date and time features using strftime ( http://strftime.org/ )"
   ]
  },
  {
   "cell_type": "code",
   "execution_count": 19,
   "metadata": {},
   "outputs": [
    {
     "data": {
      "text/html": [
       "<div>\n",
       "<style scoped>\n",
       "    .dataframe tbody tr th:only-of-type {\n",
       "        vertical-align: middle;\n",
       "    }\n",
       "\n",
       "    .dataframe tbody tr th {\n",
       "        vertical-align: top;\n",
       "    }\n",
       "\n",
       "    .dataframe thead th {\n",
       "        text-align: right;\n",
       "    }\n",
       "</style>\n",
       "<table border=\"1\" class=\"dataframe\">\n",
       "  <thead>\n",
       "    <tr style=\"text-align: right;\">\n",
       "      <th></th>\n",
       "      <th>date</th>\n",
       "      <th>site</th>\n",
       "      <th>prod</th>\n",
       "      <th>timestamp</th>\n",
       "      <th>useropluad</th>\n",
       "      <th>Year</th>\n",
       "      <th>Month</th>\n",
       "      <th>Day</th>\n",
       "    </tr>\n",
       "  </thead>\n",
       "  <tbody>\n",
       "    <tr>\n",
       "      <th>0</th>\n",
       "      <td>2019-01-01</td>\n",
       "      <td>x</td>\n",
       "      <td>200</td>\n",
       "      <td>2019-08-28 17:27:00.338582</td>\n",
       "      <td>input/user_007/rawtest3.xlsx</td>\n",
       "      <td>2019</td>\n",
       "      <td>01</td>\n",
       "      <td>01</td>\n",
       "    </tr>\n",
       "    <tr>\n",
       "      <th>1</th>\n",
       "      <td>2019-01-02</td>\n",
       "      <td>x</td>\n",
       "      <td>100</td>\n",
       "      <td>2019-08-28 17:27:00.338582</td>\n",
       "      <td>input/user_007/rawtest3.xlsx</td>\n",
       "      <td>2019</td>\n",
       "      <td>01</td>\n",
       "      <td>02</td>\n",
       "    </tr>\n",
       "    <tr>\n",
       "      <th>2</th>\n",
       "      <td>2019-01-03</td>\n",
       "      <td>x</td>\n",
       "      <td>400</td>\n",
       "      <td>2019-08-28 17:27:00.338582</td>\n",
       "      <td>input/user_007/rawtest3.xlsx</td>\n",
       "      <td>2019</td>\n",
       "      <td>01</td>\n",
       "      <td>03</td>\n",
       "    </tr>\n",
       "  </tbody>\n",
       "</table>\n",
       "</div>"
      ],
      "text/plain": [
       "        date site  prod                  timestamp  \\\n",
       "0 2019-01-01    x   200 2019-08-28 17:27:00.338582   \n",
       "1 2019-01-02    x   100 2019-08-28 17:27:00.338582   \n",
       "2 2019-01-03    x   400 2019-08-28 17:27:00.338582   \n",
       "\n",
       "                     useropluad  Year Month Day  \n",
       "0  input/user_007/rawtest3.xlsx  2019    01  01  \n",
       "1  input/user_007/rawtest3.xlsx  2019    01  02  \n",
       "2  input/user_007/rawtest3.xlsx  2019    01  03  "
      ]
     },
     "execution_count": 19,
     "metadata": {},
     "output_type": "execute_result"
    }
   ],
   "source": [
    "cleandata['Year']= pd.to_datetime(cleandata['date']).dt.strftime(\"%Y\")\n",
    "cleandata['Month']= pd.to_datetime(cleandata['date']).dt.strftime(\"%m\")\n",
    "# df['Month']=pd.to_numeric(df['Month'])\n",
    "cleandata['Day']= pd.to_datetime(cleandata['date']).dt.strftime(\"%d\")\n",
    "# df['Day']=pd.to_numeric(df['Day'])\n",
    "cleandata.head()"
   ]
  },
  {
   "cell_type": "markdown",
   "metadata": {},
   "source": [
    "## 2. Sharepoint List Data Sources"
   ]
  },
  {
   "cell_type": "markdown",
   "metadata": {},
   "source": [
    "___\n",
    "\n",
    "<a> <img src='img\\sharepoint_ingest_pic_v2.png' width=\"1000\" /></a>\n",
    "___"
   ]
  },
  {
   "cell_type": "markdown",
   "metadata": {},
   "source": [
    "###  Configure setting information (sharepoint address, s3 target bucket, credential)"
   ]
  },
  {
   "cell_type": "code",
   "execution_count": null,
   "metadata": {
    "collapsed": true,
    "jupyter": {
     "outputs_hidden": true
    }
   },
   "outputs": [],
   "source": [
    "settings = {\n",
    "    'URL': 'https://tmtgroup.sharepoint.com/sites/ABMDataPlatform',\n",
    "    'USERNAME': 'user',\n",
    "    'PASSWORD': 'password',\n",
    "    'LIST': 'TR_TRIP',\n",
    "    'S3_BUCKET': 'abm-data-platform-s3-raw'\n",
    "}"
   ]
  },
  {
   "cell_type": "markdown",
   "metadata": {},
   "source": [
    "### Import"
   ]
  },
  {
   "cell_type": "code",
   "execution_count": null,
   "metadata": {},
   "outputs": [],
   "source": [
    "from io import StringIO\n",
    "import json\n",
    "import pandas as pd\n",
    "import boto3\n",
    "from office365.runtime.auth.authentication_context import AuthenticationContext\n",
    "from office365.sharepoint.client_context import ClientContext\n",
    "from office365.runtime.utilities.request_options import RequestOptions\n",
    "from settings import settings\n",
    "\n",
    "ctxAuth = AuthenticationContext(url=settings['URL'])\n",
    "if ctxAuth.acquire_token_for_user(username=settings['USERNAME'], password=settings['PASSWORD']):\n",
    "    ctx = ClientContext(settings['URL'], ctxAuth)"
   ]
  },
  {
   "cell_type": "markdown",
   "metadata": {},
   "source": [
    "Create initial list bucket to store list data from sharepoint"
   ]
  },
  {
   "cell_type": "code",
   "execution_count": null,
   "metadata": {},
   "outputs": [],
   "source": [
    "list_items_all = []"
   ]
  },
  {
   "cell_type": "markdown",
   "metadata": {},
   "source": [
    "### Function to get field / column on sharepoint list"
   ]
  },
  {
   "cell_type": "code",
   "execution_count": 94,
   "metadata": {},
   "outputs": [],
   "source": [
    "def sharepoint_get_fields(ctx):\n",
    "    \"\"\"Get fields\n",
    "    Get fields name from a List\n",
    "    \"\"\"\n",
    "    filter = \"Hidden eq false and ReadOnlyField eq false and Group eq 'Custom Columns'\"\n",
    "    options = RequestOptions(\n",
    "        \"{0}/_api/lists/getbytitle('TR_TRIP')/fields?$filter={1}\".format(settings['URL'], filter))\n",
    "    options.set_header('Accept', 'application/json')\n",
    "    options.set_header('Content-Type', 'application/json')\n",
    "    data = ctx.execute_request_direct(options)\n",
    "    fields = json.loads(data.content)\n",
    "    return fields"
   ]
  },
  {
   "cell_type": "markdown",
   "metadata": {},
   "source": [
    "### Function to get item or row data"
   ]
  },
  {
   "cell_type": "code",
   "execution_count": 95,
   "metadata": {},
   "outputs": [],
   "source": [
    "def sharepoint_get_item(ctx, url=''):\n",
    "    \"\"\"Get items\n",
    "    Get items from a List\n",
    "    \"\"\"\n",
    "    if url == '':\n",
    "        url = \"{0}/_api/lists/getbytitle('TR_TRIP')/items\".format(settings['URL'])\n",
    "    options = RequestOptions(url)\n",
    "    options.set_header('Accept', 'application/json')\n",
    "    options.set_header('Content-Type', 'application/json')\n",
    "    data = ctx.execute_request_direct(options)\n",
    "    items = json.loads(data.content)\n",
    "    for item in items['value']:\n",
    "        list_items_all.append(item)\n",
    "\n",
    "    # If list items more than 100 data\n",
    "    if 'odata.nextLink' in items:\n",
    "        print('[+] Get next items:', items['odata.nextLink'])\n",
    "        sharepoint_get_item(ctx, items['odata.nextLink'])\n",
    "    return list_items_all"
   ]
  },
  {
   "cell_type": "markdown",
   "metadata": {},
   "source": [
    "### Function to read all data in sharepoint than transform to csv"
   ]
  },
  {
   "cell_type": "code",
   "execution_count": 96,
   "metadata": {},
   "outputs": [],
   "source": [
    "def sharepoint_to_csv():\n",
    "    \"\"\"Export to CSV\n",
    "    Export items to CSV file\n",
    "    \"\"\"\n",
    "    ctxAuth = AuthenticationContext(url=settings['URL'])\n",
    "    if ctxAuth.acquire_token_for_user(username=settings['USERNAME'], password=settings['PASSWORD']):\n",
    "        ctx = ClientContext(settings['URL'], ctxAuth)\n",
    "\n",
    "        # Populate fields name from List dynamically\n",
    "        print('[+] Get fields name from a List')\n",
    "        fieldId = []\n",
    "        fieldTitle = []\n",
    "        fields = sharepoint_get_fields(ctx)\n",
    "        for field in fields['value']:\n",
    "            fieldId.append(field['EntityPropertyName'])\n",
    "            fieldTitle.append(field['Title'])\n",
    "\n",
    "        # Populate data to array\n",
    "        print('[+] Get items from a List')\n",
    "        items = sharepoint_get_item(ctx)\n",
    "        list_items = []\n",
    "        for item in items:\n",
    "            list_item = []\n",
    "            for field in fieldId:\n",
    "                list_item.append(item[field])\n",
    "            list_items.append(list_item)\n",
    "\n",
    "        print('[+] Total items:', len(list_items), ' item(s)')\n",
    "\n",
    "        # Create pandas dataframe from populated data\n",
    "        print('[+] Create pandas dataframe to CSV')\n",
    "        df = pd.DataFrame(list_items, columns=fieldTitle)\n",
    "        csv_buffer = StringIO()\n",
    "        df.to_csv(csv_buffer, index=False)\n",
    "\n",
    "        # Save CSV file to S3\n",
    "        print('[+] Upload CSV to S3')\n",
    "        object_url = 'bdd/raw/rawcsv_bdd_ds_tr_trip/TR_TRIP.csv'\n",
    "        s3_resource = boto3.resource('s3')\n",
    "        s3_resource.Object(settings['S3_BUCKET'], object_url).put(\n",
    "            Body=csv_buffer.getvalue())\n",
    "        print('[+] S3 Object URL:', settings['S3_BUCKET'] + object_url)\n",
    "    else:\n",
    "        print(ctxAuth.get_last_error())\n",
    "    return"
   ]
  },
  {
   "cell_type": "markdown",
   "metadata": {},
   "source": [
    "## 3. SQL DB Data Sources"
   ]
  },
  {
   "cell_type": "markdown",
   "metadata": {},
   "source": [
    "___\n",
    "\n",
    "<a> <img src='img\\sqldb_ingest_pic_v2.png' width=\"1000\" /></a>\n",
    "___"
   ]
  },
  {
   "cell_type": "markdown",
   "metadata": {
    "collapsed": true,
    "jupyter": {
     "outputs_hidden": true
    }
   },
   "source": [
    "## Will be shown on the demo"
   ]
  }
 ],
 "metadata": {
  "kernelspec": {
   "display_name": "Python 3",
   "language": "python",
   "name": "python3"
  },
  "language_info": {
   "codemirror_mode": {
    "name": "ipython",
    "version": 3
   },
   "file_extension": ".py",
   "mimetype": "text/x-python",
   "name": "python",
   "nbconvert_exporter": "python",
   "pygments_lexer": "ipython3",
   "version": "3.7.4"
  }
 },
 "nbformat": 4,
 "nbformat_minor": 4
}
